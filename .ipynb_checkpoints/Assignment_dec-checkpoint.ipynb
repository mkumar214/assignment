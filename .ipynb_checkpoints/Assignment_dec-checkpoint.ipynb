{
 "cells": [
  {
   "cell_type": "markdown",
   "metadata": {},
   "source": [
    "## 1.Write a fun which will take string and return a len of it without using a inbuilt fun len"
   ]
  },
  {
   "cell_type": "code",
   "execution_count": 1,
   "metadata": {},
   "outputs": [],
   "source": [
    "name = \"Mukesh\"\n"
   ]
  },
  {
   "cell_type": "code",
   "execution_count": 2,
   "metadata": {},
   "outputs": [],
   "source": [
    "#this function takes input as a string and return the size of the string.If string is empty this returns zero. \n",
    "def getLength(str):\n",
    "    # Count variable increase on each itertation of for loop and return sum of the iteration\n",
    "    count = 0;\n",
    "    #Str is iterate according the presence of the character.We are checking(i) how many character is present in the given string.\n",
    "    for i in str:\n",
    "        #increase by 1\n",
    "        count+=1\n",
    "    #return count    \n",
    "    return count    \n",
    "    "
   ]
  },
  {
   "cell_type": "code",
   "execution_count": 3,
   "metadata": {},
   "outputs": [
    {
     "name": "stdout",
     "output_type": "stream",
     "text": [
      "6\n"
     ]
    }
   ],
   "source": [
    "print(getLength(\"123454\"))"
   ]
  },
  {
   "cell_type": "markdown",
   "metadata": {},
   "source": [
    "## 2. Write a fun which will be able to print an index of all the premitive element which you will pass : list,touple,dict"
   ]
  },
  {
   "cell_type": "code",
   "execution_count": 4,
   "metadata": {},
   "outputs": [],
   "source": [
    "countries = [\"India\",\"Australia\",\"Srilanka\"]\n",
    "genders=(\"male\",\"female\")"
   ]
  },
  {
   "cell_type": "code",
   "execution_count": 5,
   "metadata": {},
   "outputs": [],
   "source": [
    "### This function takes collection(List,set,tuples,dictionary) and element as a input and returns the position of element in case of list,set \n",
    "# and tuples.This returns position of keys in case of dictionary.If element not found then error msg will return  \n",
    "def getIndex(collection,ele):\n",
    "    count=-1\n",
    "    found=False\n",
    "    for i in collection:\n",
    "        count+=1\n",
    "        if(i==ele):\n",
    "            found=True\n",
    "            break\n",
    "       \n",
    "    if(found!=True):\n",
    "        return \"Not found\"\n",
    "    else:\n",
    "        return count        "
   ]
  },
  {
   "cell_type": "code",
   "execution_count": 6,
   "metadata": {},
   "outputs": [
    {
     "data": {
      "text/plain": [
       "0"
      ]
     },
     "execution_count": 6,
     "metadata": {},
     "output_type": "execute_result"
    }
   ],
   "source": [
    "age=[1,2,3,4,5,6]\n",
    "getIndex(age,1)"
   ]
  },
  {
   "cell_type": "code",
   "execution_count": 7,
   "metadata": {},
   "outputs": [
    {
     "name": "stdout",
     "output_type": "stream",
     "text": [
      "Not found\n"
     ]
    }
   ],
   "source": [
    "print(getIndex(genders,\"malgdfgdg\"))"
   ]
  },
  {
   "cell_type": "code",
   "execution_count": 8,
   "metadata": {},
   "outputs": [
    {
     "data": {
      "text/plain": [
       "1"
      ]
     },
     "execution_count": 8,
     "metadata": {},
     "output_type": "execute_result"
    }
   ],
   "source": [
    "##Set\n",
    "cities={\"Noida\",\"Banglore\"}\n",
    "getIndex(cities,\"Banglore\")"
   ]
  },
  {
   "cell_type": "code",
   "execution_count": 9,
   "metadata": {},
   "outputs": [],
   "source": [
    "##Dictionary\n",
    "capitals={\"India\":\"Delhi\",\"Nepal\":\"Kathmandu\",\"China\":\"Bejing\"}"
   ]
  },
  {
   "cell_type": "code",
   "execution_count": 10,
   "metadata": {},
   "outputs": [
    {
     "data": {
      "text/plain": [
       "'Not found'"
      ]
     },
     "execution_count": 10,
     "metadata": {},
     "output_type": "execute_result"
    }
   ],
   "source": [
    "getIndex(capitals,\"Delhi\")"
   ]
  },
  {
   "cell_type": "markdown",
   "metadata": {},
   "source": [
    "## 3. Write a fun which will take input as a dict and give me out as a list of all the values even in case of 2 level nesting it should work."
   ]
  },
  {
   "cell_type": "code",
   "execution_count": 11,
   "metadata": {},
   "outputs": [
    {
     "data": {
      "text/plain": [
       "dict_values(['Delhi', 'Kathmandu', 'Bejing'])"
      ]
     },
     "execution_count": 11,
     "metadata": {},
     "output_type": "execute_result"
    }
   ],
   "source": [
    "capitals.values()\n"
   ]
  },
  {
   "cell_type": "code",
   "execution_count": 12,
   "metadata": {},
   "outputs": [],
   "source": [
    "'''This function takes dictionary as a input and returns values list. If dictionary is empty the returns empty list'''\n",
    "def getValues(collect):\n",
    "    dicval = []\n",
    "    #Iterate over the dictionary\n",
    "    for i in collect:\n",
    "        #Appending value into the dictionary\n",
    "        dicval.append(collect.get(i))\n",
    "    return dicval"
   ]
  },
  {
   "cell_type": "code",
   "execution_count": 13,
   "metadata": {},
   "outputs": [
    {
     "name": "stdout",
     "output_type": "stream",
     "text": [
      "['Delhi', 'Kathmandu', 'Bejing']\n"
     ]
    }
   ],
   "source": [
    "print(getValues(capitals))"
   ]
  },
  {
   "cell_type": "markdown",
   "metadata": {},
   "source": [
    "## 4. Wriye a fun which will take another function as an input and return me an output: test1 called inside test2 function"
   ]
  },
  {
   "cell_type": "code",
   "execution_count": 14,
   "metadata": {},
   "outputs": [],
   "source": [
    "def fun_1():\n",
    "    print(\"function 1\")"
   ]
  },
  {
   "cell_type": "code",
   "execution_count": 15,
   "metadata": {},
   "outputs": [],
   "source": [
    "def fun_2():\n",
    "    fun_1()\n",
    "    print(\"function 2\")"
   ]
  },
  {
   "cell_type": "code",
   "execution_count": 16,
   "metadata": {},
   "outputs": [
    {
     "name": "stdout",
     "output_type": "stream",
     "text": [
      "function 1\n",
      "function 2\n"
     ]
    }
   ],
   "source": [
    "fun_2()"
   ]
  },
  {
   "cell_type": "markdown",
   "metadata": {},
   "source": [
    "## 5. Write a fun which will take multiple list as a input and give me concatnation of all the  element as and output."
   ]
  },
  {
   "cell_type": "code",
   "execution_count": 17,
   "metadata": {},
   "outputs": [],
   "source": [
    "'''Taking var number of list and merging into the return a single list with all the element'''\n",
    "def list_concate(*args):\n",
    "    aggr_list=[]\n",
    "    for ilist in args:\n",
    "        for ele in ilist:\n",
    "            aggr_list.append(ele)\n",
    "    return aggr_list        "
   ]
  },
  {
   "cell_type": "code",
   "execution_count": 18,
   "metadata": {},
   "outputs": [
    {
     "data": {
      "text/plain": [
       "[1, 2, 3, 4, 'test_1', 'test_2']"
      ]
     },
     "execution_count": 18,
     "metadata": {},
     "output_type": "execute_result"
    }
   ],
   "source": [
    "l1=[1,2,3,4]\n",
    "l2=[\"test_1\",\"test_2\"]\n",
    "list_concate(l1,l2)"
   ]
  },
  {
   "cell_type": "markdown",
   "metadata": {},
   "source": [
    "## 6. Write a function which will be able to take a list as an input return an index o each element like a inbuilt index function but even if we have repetative element it should return index"
   ]
  },
  {
   "cell_type": "code",
   "execution_count": null,
   "metadata": {},
   "outputs": [],
   "source": []
  },
  {
   "cell_type": "markdown",
   "metadata": {},
   "source": [
    "## 7. Write a function whihc will should return list of all the file name from a directory."
   ]
  },
  {
   "cell_type": "code",
   "execution_count": 19,
   "metadata": {},
   "outputs": [],
   "source": [
    "## importin listdir function.Later this is used for list down the all the files.\n",
    "from os import listdir\n",
    "from os.path import isfile, join\n",
    "'''This function takes path as a input and return list whihc contains all the files inside the dicrectory.'''\n",
    "def find_files(path):\n",
    "    l=[]\n",
    "    files = listdir(path)\n",
    "    for i in files:\n",
    "        l.append(i)\n",
    "    return l"
   ]
  },
  {
   "cell_type": "code",
   "execution_count": 20,
   "metadata": {},
   "outputs": [
    {
     "data": {
      "text/plain": [
       "['Vocabulary', 'English_grammar.ods', 'phonectic']"
      ]
     },
     "execution_count": 20,
     "metadata": {},
     "output_type": "execute_result"
    }
   ],
   "source": [
    "find_files(\"/home/mukesh/Documents/Personal/English\")"
   ]
  },
  {
   "cell_type": "markdown",
   "metadata": {},
   "source": [
    "## 8. Write a function which will be able to show your system configuration."
   ]
  },
  {
   "cell_type": "code",
   "execution_count": 21,
   "metadata": {},
   "outputs": [
    {
     "data": {
      "text/plain": [
       "posix.uname_result(sysname='Linux', nodename='vecnacares', release='5.11.0-44-generic', version='#48~20.04.2-Ubuntu SMP Tue Dec 14 15:36:44 UTC 2021', machine='x86_64')"
      ]
     },
     "execution_count": 21,
     "metadata": {},
     "output_type": "execute_result"
    }
   ],
   "source": [
    "\n"
   ]
  },
  {
   "cell_type": "code",
   "execution_count": 88,
   "metadata": {},
   "outputs": [],
   "source": [
    "import platform\n",
    "'''This function show the system details.This is using platform module.'''\n",
    "def show_system_details():\n",
    "    print(\"machine\",platform.machine())\n",
    "    print(\"Version\",platform.version())\n",
    "    print(\"Platform\",platform.platform())\n",
    "    print(\"Full Details\",platform.uname())\n",
    "    print(\"System\",platform.system())\n",
    "    print(\"Processor\",platform.processor())"
   ]
  },
  {
   "cell_type": "code",
   "execution_count": 23,
   "metadata": {},
   "outputs": [
    {
     "name": "stdout",
     "output_type": "stream",
     "text": [
      "machine x86_64\n",
      "Version #48~20.04.2-Ubuntu SMP Tue Dec 14 15:36:44 UTC 2021\n",
      "Platform Linux-5.11.0-44-generic-x86_64-with-debian-bullseye-sid\n",
      "Full Details uname_result(system='Linux', node='vecnacares', release='5.11.0-44-generic', version='#48~20.04.2-Ubuntu SMP Tue Dec 14 15:36:44 UTC 2021', machine='x86_64', processor='x86_64')\n",
      "System Linux\n",
      "Processor x86_64\n"
     ]
    }
   ],
   "source": [
    "show_system_details()"
   ]
  },
  {
   "cell_type": "markdown",
   "metadata": {},
   "source": [
    "## 9.Write a function which wil be able to show date and time."
   ]
  },
  {
   "cell_type": "code",
   "execution_count": 24,
   "metadata": {},
   "outputs": [],
   "source": [
    "## datetime module for date operation\n",
    "import datetime\n",
    "'''This function show the current date and time'''\n",
    "def show_date_time():\n",
    "    now=datetime.datetime.now()\n",
    "    print(now.strftime(\"%Y-%m-%d %H:%M:%S\"))"
   ]
  },
  {
   "cell_type": "code",
   "execution_count": 25,
   "metadata": {},
   "outputs": [
    {
     "name": "stdout",
     "output_type": "stream",
     "text": [
      "2022-01-08 14:08:17\n"
     ]
    }
   ],
   "source": [
    "show_date_time()"
   ]
  },
  {
   "cell_type": "markdown",
   "metadata": {},
   "source": [
    "## 10.Write a function which will be able to read a image file and show it to you."
   ]
  },
  {
   "cell_type": "code",
   "execution_count": 26,
   "metadata": {},
   "outputs": [],
   "source": [
    "## matplitlib module for reading the image\n",
    "import matplotlib.image as mpimg\n",
    "\n",
    "## for showing the image\n",
    "import matplotlib.pyplot as plt\n",
    "\n",
    "'''This function takes src as input and show the file'''\n",
    "def display_image(path):\n",
    "    img = mpimg.imread(path)\n",
    "    plt.imshow(img)\n",
    "\n",
    "    "
   ]
  },
  {
   "cell_type": "code",
   "execution_count": 27,
   "metadata": {},
   "outputs": [
    {
     "data": {
      "image/png": "[encoded data removed]",
      "text/plain": [
       "<Figure size 432x288 with 1 Axes>"
      ]
     },
     "metadata": {
      "needs_background": "light"
     },
     "output_type": "display_data"
    }
   ],
   "source": [
    "display_image(\"/home/mukesh/Pictures/Wallpapers/Name_logo.png\")"
   ]
  },
  {
   "cell_type": "markdown",
   "metadata": {},
   "source": [
    "## 11.Write a function which can read video file and play for you."
   ]
  },
  {
   "cell_type": "code",
   "execution_count": 30,
   "metadata": {},
   "outputs": [],
   "source": [
    "# Create a video capture object, in this case we are reading the video from a file\n",
    "import cv2\n",
    "def play_video(path):\n",
    "    vid_capture = cv2.VideoCapture(path)\n",
    "    if (vid_capture.isOpened() == False):\n",
    "        print(\"Error opening the video file\")\n",
    "        # Read fps and frame count\n",
    "    else:\n",
    "        # Get frame rate information\n",
    "        # You can replace 5 with CAP_PROP_FPS as well, they are enumerations\n",
    "        fps = vid_capture.get(5)\n",
    "        print('Frames per second : ', fps,'FPS')\n",
    "        # Get frame count\n",
    "        # You can replace 7 with CAP_PROP_FRAME_COUNT as well, they are enumerations\n",
    "        frame_count = vid_capture.get(7)\n",
    "        print('Frame count : ', frame_count)\n",
    "\n",
    "    while(vid_capture.isOpened()):\n",
    "        # vid_capture.read() methods returns a tuple, first element is a bool \n",
    "        # and the second is frame\n",
    "        ret, frame = vid_capture.read()\n",
    "        if ret == True:\n",
    "            cv2.imshow('Frame',frame)\n",
    "            # 20 is in milliseconds, try to increase the value, say 50 and observe\n",
    "            key = cv2.waitKey(20)\n",
    "            if key == ord('q'):\n",
    "                break\n",
    "        else:\n",
    "            break\n",
    "    #Release the video capture object\n",
    "    vid_capture.release()\n",
    "    cv2.destroyAllWindows()"
   ]
  },
  {
   "cell_type": "code",
   "execution_count": 31,
   "metadata": {},
   "outputs": [
    {
     "name": "stdout",
     "output_type": "stream",
     "text": [
      "Frames per second :  23.976023976023978 FPS\n",
      "Frame count :  436.0\n"
     ]
    }
   ],
   "source": [
    "play_video('/home/mukesh/Downloads/181015_01_011.mp4')"
   ]
  },
  {
   "cell_type": "markdown",
   "metadata": {},
   "source": [
    "##12.Write a function which can move a file from one directory to another diretory."
   ]
  },
  {
   "cell_type": "code",
   "execution_count": 86,
   "metadata": {},
   "outputs": [],
   "source": [
    "## import requied module\n",
    "import shutil\n",
    "'''This function takes two param : one is src and another for the destination.if files exist then moves method of shutil copy the files to destination'''\n",
    "def move_file(src,dest):\n",
    "    files = os.listdir(src)\n",
    "    for f in files:\n",
    "        shutil.move(src+f,dest+f)"
   ]
  },
  {
   "cell_type": "code",
   "execution_count": 33,
   "metadata": {},
   "outputs": [],
   "source": [
    "move_file('/home/mukesh/Pictures/Wallpapers/old/','/home/mukesh/Pictures/Wallpapers/new/')"
   ]
  },
  {
   "cell_type": "markdown",
   "metadata": {},
   "source": [
    "## 13.Write a function which will be able to shutdown your system."
   ]
  },
  {
   "cell_type": "code",
   "execution_count": 85,
   "metadata": {},
   "outputs": [],
   "source": [
    "'''This function shutdown the system'''\n",
    "def shut_down():\n",
    "    ## This function takes shutdown as a argument and shutdown the system\n",
    "    os.system(\"shutdown -s\")"
   ]
  },
  {
   "cell_type": "markdown",
   "metadata": {},
   "source": [
    "## 14. Write a function which will able to access your mail."
   ]
  },
  {
   "cell_type": "code",
   "execution_count": null,
   "metadata": {},
   "outputs": [],
   "source": []
  },
  {
   "cell_type": "markdown",
   "metadata": {},
   "source": [
    "## 15.Write a function which will I can send a mail to anyone."
   ]
  },
  {
   "cell_type": "markdown",
   "metadata": {},
   "source": [
    "## 16.Write a func to read a complete PDF file."
   ]
  },
  {
   "cell_type": "code",
   "execution_count": 39,
   "metadata": {},
   "outputs": [],
   "source": [
    "#Importing required library for the pdf\n",
    "import PyPDF2\n",
    "'''this takes path as a input and read the pdf file'''\n",
    "def read_pdf_dir(path):\n",
    "    #1.Creating a pdf file object\n",
    "    pdf_file_obj = open(path,'rb')\n",
    "    #2.reading the pdf file object by passing the pdf file object\n",
    "    pdf_reader = PyPDF2.PdfFileReader(pdf_file_obj)\n",
    "    #3.Creating a page object\n",
    "    page_obj = pdf_reader.getPage(0)\n",
    "    #4.Extracting text from page\n",
    "    print(page_obj.extractText())\n",
    "    #5.closing the file object\n",
    "    pdf_file_obj.close()\n",
    "    \n",
    "    \n"
   ]
  },
  {
   "cell_type": "code",
   "execution_count": 44,
   "metadata": {},
   "outputs": [
    {
     "name": "stdout",
     "output_type": "stream",
     "text": [
      " A Simple PDF File  This is a small demonstration .pdf file -  just for use in the Virtual Mechanics tutorials. More text. And more  text. And more text. And more text. And more text.  And more text. And more text. And more text. And more text. And more  text. And more text. Boring, zzzzz. And more text. And more text. And  more text. And more text. And more text. And more text. And more text.  And more text. And more text.  And more text. And more text. And more text. And more text. And more  text. And more text. And more text. Even more. Continued on page 2 ...\n"
     ]
    }
   ],
   "source": [
    "read_pdf_dir(\"/home/mukesh/Downloads/sample.pdf\")"
   ]
  },
  {
   "cell_type": "markdown",
   "metadata": {},
   "source": [
    "## 17.Write a function to read a word file."
   ]
  },
  {
   "cell_type": "code",
   "execution_count": 48,
   "metadata": {},
   "outputs": [],
   "source": [
    "#importing docx module for loading and reading the document\n",
    "import docx\n",
    "\n",
    "def readDocFile(src):\n",
    "    #1.This empty list is used for storing the document content.\n",
    "    contents = []\n",
    "    #2.Load the document file form the src path\n",
    "    doc = docx.Document(src)\n",
    "    #Iterating over the paragraph\n",
    "    for t in doc.paragraphs:\n",
    "        if t.text:\n",
    "            contents.append(t.text)\n",
    "    return contents    \n"
   ]
  },
  {
   "cell_type": "code",
   "execution_count": 49,
   "metadata": {},
   "outputs": [
    {
     "data": {
      "text/plain": [
       "['Curabitur bibendum ante urna, sed blandit libero egestas id. Pellentesque rhoncus elit in lacus ultrices fringilla. Nam ac metus eu turpis mattis rutrum. Mauris mattis sem ex, facilisis molestie sapien luctus non. Vestibulum tincidunt urna at odio suscipit, vel congue felis cursus. Etiam tellus magna, egestas ac suscipit in, laoreet quis felis. Proin non orci id dui tincidunt egestas.',\n",
       " 'Vestibulum eleifend, ligula a scelerisque vehicula, risus justo ultricies ligula, et interdum lorem ex eget ex. Duis dignissim lacus vitae velit laoreet, vitae placerat velit aliquet. Etiam eget mollis nulla, ac vehicula mi. Etiam non sollicitudin velit, imperdiet commodo mi. Fusce quis tellus tellus. Donec dictum euismod risus non tempus. Duis quis pellentesque nunc. Praesent elementum condimentum mollis.',\n",
       " 'Phasellus dapibus quam a hendrerit placerat. Sed ultrices blandit nulla sed sodales. Nunc quis volutpat eros. Etiam bibendum eu tellus consequat blandit. Curabitur lacinia cursus diam sed pharetra. Proin molestie tristique mauris ut aliquam. Donec purus odio, molestie id suscipit sit amet, porttitor in erat. Vestibulum ut tellus vel mi lobortis porta nec vel tellus. Quisque pretium blandit dignissim. Proin eu metus convallis sapien efficitur mollis. Nunc luctus ex in nunc ornare, nec blandit orci faucibus. Aenean bibendum mi vel neque euismod hendrerit. Vestibulum ac pharetra magna. Ut rutrum, orci at blandit faucibus, justo mauris iaculis mauris, ut tempor lectus risus at ligula.',\n",
       " 'Duis non tincidunt purus. Nam quis sapien risus. Donec mattis convallis tempor. Fusce aliquam aliquet eros, nec rutrum lectus pretium at. Praesent blandit justo a mi dignissim placerat. Ut ullamcorper elit eget diam maximus iaculis. In bibendum in massa eget facilisis. In iaculis lectus ',\n",
       " 'nec neque vehicula, ac molestie ante ornare. Sed sit amet sem mollis, egestas justo ac, rhoncus nunc. In in aliquam ante, non imperdiet ante. Mauris in sapien ut quam hendrerit mollis. Proin feugiat dignissim nisi, sed tincidunt ante aliquam et. Integer finibus et augue a tempus.',\n",
       " 'Nullam facilisis quis nisl sit amet iaculis. Integer hendrerit metus in faucibus aliquet. Donec fermentum, lacus lobortis pulvinar vestibulum, felis ipsum auctor mi, ac pulvinar lacus magna semper ligula. Proin mollis eros turpis, vel iaculis velit lobortis vitae. Nam hendrerit arcu quam, ac feugiat massa semper eu. Nullam quis feugiat nisl. Praesent fringilla luctus purus non pulvinar. Donec accumsan purus libero, eget maximus purus consequat faucibus. Maecenas porta consectetur magna non commodo.',\n",
       " 'Class aptent taciti sociosqu ad litora torquent per conubia nostra, per inceptos himenaeos. Ut facilisis nibh quis pellentesque dapibus. Aliquam vulputate porta ex, eu convallis neque luctus a. Vivamus egestas dignissim neque, ac vestibulum tortor finibus eu. In condimentum lorem ac nulla bibendum, sit amet dapibus nisl maximus. Donec eu neque nec enim eleifend dictum vitae eu orci. Maecenas id consequat augue, congue molestie nibh. Proin in mi et nunc bibendum convallis. Nullam eu sagittis elit. Quisque interdum turpis at nulla mollis, quis ultricies lacus rutrum. Sed molestie accumsan metus, ut rutrum mi ullamcorper sed. Vivamus eu imperdiet mauris, in pulvinar orci. Cras nec feugiat velit. Curabitur varius mattis mi, ac rutrum ligula convallis lacinia. Phasellus iaculis diam quam, et egestas libero mollis sed.',\n",
       " 'Duis vel erat dolor. Phasellus ut sem non elit tempor convallis. Nunc non fermentum leo, eget rhoncus eros. Mauris varius condimentum metus, aliquet vulputate quam vestibulum sed. Etiam vel diam nec velit viverra laoreet id eu purus. Nunc vulputate magna ac nisl tempor bibendum. Morbi vitae tempor velit. Nam auctor nisi est, id pharetra leo accumsan quis. Suspendisse id urna libero. Curabitur congue ante ut lorem placerat hendrerit. Phasellus faucibus felis a nulla volutpat, ut tempor erat vulputate. Mauris pellentesque faucibus mattis. Integer cursus egestas ligula ac sodales. Nam blandit massa sit amet ex venenatis aliquam. Integer aliquam, lorem quis bibendum rhoncus, leo tortor tempus lorem, a lobortis eros ligula ac massa. Nam non magna vitae quam mattis ultrices a quis elit.',\n",
       " 'Etiam egestas dictum risus. Curabitur nec finibus erat. Sed vel risus nec velit congue facilisis. Vivamus finibus sapien eu ultrices aliquam. Vestibulum varius nulla ligula, in interdum enim commodo a. Curabitur vestibulum sit amet quam id eleifend. Nulla condimentum nulla vel erat eleifend, et ornare lectus imperdiet. Nam rutrum fringilla risus, nec sollicitudin risus rhoncus ut. Nunc suscipit eros non massa luctus congue. Vivamus vulputate varius sagittis.',\n",
       " 'In in elit at lorem volutpat semper. Aliquam mollis, justo ut pharetra condimentum, nisl velit mollis eros, sed congue nulla nisi sit amet magna. Donec cursus ornare lectus faucibus iaculis. Nulla non ultrices quam. In sodales lorem ac justo dapibus ullamcorper. Suspendisse potenti. Sed vitae urna eget eros sagittis auctor eget ac lorem. Sed id velit justo.',\n",
       " 'Mauris vel pharetra lacus. Duis eleifend nisl nisl, sit amet mattis mi ultricies at. Vestibulum a porta neque. Donec eu feugiat orci. Nunc lacinia aliquet metus rhoncus convallis. Aenean efficitur mi eu nunc placerat blandit. Sed ac nisi sapien. Nullam molestie risus eu nibh posuere aliquam.',\n",
       " 'Nunc accumsan, leo eget vestibulum gravida, urna ipsum semper ligula, non porttitor urna leo quis tortor. Fusce lobortis in metus mollis dignissim. Vestibulum a sollicitudin turpis. Vivamus sed lectus et eros ullamcorper egestas. Duis tincidunt sem sit amet suscipit ultrices. Pellentesque suscipit, ante nec pretium commodo, lorem dui pharetra libero, vel dignissim odio quam a ex. Proin commodo nibh id ultricies convallis. Morbi et vehicula felis. Fusce vel malesuada purus, eget fringilla enim. Phasellus vitae nisi et tortor dignissim elementum. Aenean et odio mi. Maecenas eu leo justo.',\n",
       " 'Suspendisse sagittis turpis mauris, sit amet euismod ligula porta sed. Nulla in venenatis felis. Fusce in semper lacus. Nullam convallis sapien ac scelerisque mollis. Donec semper massa eu lacinia dapibus. Nulla facilisi. Duis et eros vitae tellus congue aliquet. Aliquam ac augue molestie, dapibus enim ut, tincidunt velit. Etiam sollicitudin purus sed purus ultricies, ultrices eleifend purus vulputate. In quis ex sit amet magna cursus posuere id sit amet purus.',\n",
       " 'Integer dui ipsum, malesuada id nulla a, tempus auctor libero. Donec nisl augue, lobortis ut arcu quis, cursus eleifend libero. In tincidunt egestas ipsum a sollicitudin. Phasellus sit amet massa vitae purus mattis convallis. Mauris tempor neque vel neque aliquam, sit amet lacinia mauris lacinia. Duis vitae nisi nulla. Cras vitae lorem dictum, rutrum quam id, faucibus magna. Morbi fringilla magna at augue maximus finibus. Donec mi dui, volutpat ut lectus sit amet, feugiat tincidunt ex. Sed id justo lobortis, eleifend lorem vitae, suscipit elit. Sed et tempor justo. In cursus tellus et ',\n",
       " 'mi volutpat accumsan. Maecenas quis porttitor lorem, sed sollicitudin nisi. In aliquam, nisi a mollis porta, sem massa pretium tellus, eget dapibus lectus neque in lorem. Vestibulum quis nunc et lorem finibus sagittis ac sit amet diam.',\n",
       " 'Morbi pretium tincidunt lacus. Duis eget augue vel nisi sollicitudin efficitur eu sed enim. Nullam iaculis ultrices ipsum sed semper. Nunc pellentesque nisl eget purus feugiat, a varius velit tristique. Praesent imperdiet magna suscipit, posuere velit semper, condimentum erat. Donec rutrum scelerisque dapibus. Proin viverra libero vel diam consequat ornare. Etiam blandit turpis felis, vel varius lorem sagittis sodales. Nulla auctor tincidunt lacus nec tincidunt. Pellentesque vulputate rutrum augue ut faucibus. Lorem ipsum dolor sit amet, consectetur adipiscing elit. Aliquam et scelerisque quam.',\n",
       " 'Vestibulum congue vitae quam eu egestas. Donec cursus rutrum arcu, in pellentesque dui sollicitudin eget. Vivamus vitae eleifend ante, ac interdum dolor. Nunc rhoncus, erat sed fringilla placerat, tellus nunc auctor nibh, ut volutpat ante est ut eros. Vestibulum efficitur ipsum id maximus efficitur. Aliquam ac odio bibendum, tincidunt massa vel, vestibulum erat. Vivamus maximus, nisl nec sagittis fringilla, ex enim aliquet nisl, a viverra ipsum sapien at nisl. Nam eu ipsum in nisl facilisis vestibulum et at quam. Integer tempor ex hendrerit lorem lacinia, a malesuada odio condimentum. Proin elit sem, aliquam in libero eu, facilisis ultrices neque. Nunc ut diam at sapien posuere volutpat. Mauris dapibus semper lorem in imperdiet. Nulla facilisi. Donec eu nunc vestibulum, pretium justo a, egestas diam.',\n",
       " 'Orci varius natoque penatibus et magnis dis parturient montes, nascetur ridiculus mus. Quisque vitae massa nibh. Donec placerat tempor odio, et consectetur libero rhoncus quis. Nam vehicula vehicula ipsum, in commodo massa lacinia nec. Quisque elit orci, bibendum ac eros et, placerat vulputate nibh. Cras id elit nec orci tincidunt rhoncus. Nullam finibus, urna sit amet aliquam iaculis, odio purus porta nisi, tempus dictum augue nisl a eros. Curabitur blandit ipsum in imperdiet consequat. Praesent ullamcorper erat tortor, at aliquam nulla fringilla vitae. Cras sodales, odio ac dapibus consectetur, ipsum mi ultrices neque, vel vestibulum purus eros aliquet risus. Vestibulum ac sagittis dui. Integer quis lectus egestas, sodales nunc eget, dignissim turpis. Nulla sodales ullamcorper imperdiet. Etiam dolor augue, ultrices sed felis id, ultricies facilisis ligula. Sed mollis lorem eu nisi malesuada, ac vulputate nisl laoreet. Phasellus ac orci mauris.',\n",
       " 'Sed eu justo leo. Phasellus odio mi, efficitur et aliquet eu, tincidunt accumsan elit. Duis quis mauris aliquam, tincidunt libero sit amet, interdum lorem. Proin dapibus risus mi, in auctor lorem venenatis ut. Orci varius natoque penatibus et magnis dis parturient montes, nascetur ridiculus mus. Aenean ut tempus ex. Sed vitae posuere tortor. Sed sollicitudin bibendum nunc et commodo. Mauris et lectus vel elit semper tempor. Aenean ligula turpis, maximus sit amet fringilla sed, lobortis in dolor. Mauris vulputate tincidunt lacus convallis hendrerit. Integer id congue diam. Sed in consequat nisi.',\n",
       " 'Ut luctus nibh ullamcorper sagittis pulvinar. Maecenas elementum, massa sed tincidunt fringilla, erat odio efficitur dui, eu blandit tellus sem vel dolor. Pellentesque rhoncus mi efficitur, vestibulum dolor vitae, sodales ipsum. Aliquam feugiat fermentum tortor ut varius. Proin non nulla nisi. Vivamus aliquet erat vitae tellus aliquet rutrum. Suspendisse ullamcorper cursus leo varius maximus. Nam eget elit ut massa sodales ornare eget at sapien. Phasellus magna turpis, sollicitudin sit amet dignissim et, viverra nec turpis. Sed ut nunc ac nibh elementum sollicitudin. Integer ut lacus tempor, elementum leo ac, bibendum lorem. Maecenas blandit eros nec diam mollis dapibus. Mauris in erat sed ante convallis consectetur ac vitae purus. Phasellus finibus tempor elementum. In gravida et urna non scelerisque. Aenean fermentum felis nec mauris bibendum, in congue felis mattis.',\n",
       " 'Praesent semper molestie dolor eget bibendum. Pellentesque ut nisi sed eros iaculis euismod. Mauris lacinia rhoncus elit. Nulla id metus et eros rhoncus iaculis. Pellentesque massa augue, mollis eu dui eget, egestas ornare velit. Morbi ultrices mi a lacinia commodo. Pellentesque faucibus purus ante, id vehicula arcu tincidunt ac. Orci varius natoque penatibus et magnis dis parturient montes, nascetur ridiculus mus.',\n",
       " 'Ut libero massa, auctor et tortor ut, lacinia semper massa. Etiam a tortor turpis. Donec bibendum ipsum in laoreet euismod. Donec nec lectus purus. Praesent a porttitor lectus. Etiam cursus, ipsum ut maximus tincidunt, risus velit mattis felis, sed sodales odio leo volutpat sapien. Etiam a faucibus nunc. Ut magna elit, cursus a posuere ac, lobortis in orci.',\n",
       " 'Nulla facilisi. Sed sollicitudin dictum metus, vel dapibus magna accumsan ut. Nulla in laoreet velit. Lorem ipsum dolor sit amet, consectetur adipiscing elit. Morbi sit amet malesuada leo, non tincidunt augue. Curabitur venenatis bibendum rutrum. Vestibulum porta purus vel mattis dictum. Nam ac dictum justo. Mauris commodo, orci ut bibendum iaculis, elit nisi euismod leo, nec bibendum lectus lorem in purus. Mauris nec dictum mi, at dictum augue. Integer imperdiet sed nisi quis fermentum.',\n",
       " 'Nullam libero justo, accumsan eget est a, rhoncus ornare ligula. Mauris bibendum tempus consequat. Curabitur semper quis leo nec viverra. Pellentesque mollis placerat tincidunt. Etiam id ',\n",
       " 'nisl a nisl elementum condimentum. Nunc non eleifend turpis, pulvinar eleifend purus. Cras sodales augue et libero consectetur iaculis in a elit. In sed lectus rhoncus, sagittis sem eget, dignissim orci. Phasellus euismod augue nec sapien aliquam interdum.',\n",
       " 'Sed iaculis in lacus eget tincidunt. Sed molestie, enim nec lobortis sagittis, tortor neque malesuada risus, nec molestie massa tortor non leo. Donec gravida vestibulum mauris, sed faucibus tortor consectetur id. Aliquam sit amet nulla ut orci porta venenatis. Vivamus posuere, metus pulvinar aliquam ullamcorper, dolor dui hendrerit metus, eget fermentum urna diam at nisl. Suspendisse quis lobortis urna. Class aptent taciti sociosqu ad litora torquent per conubia nostra, per inceptos himenaeos. Maecenas dignissim augue ac purus venenatis, vitae tincidunt felis dictum. Fusce efficitur neque at lorem laoreet scelerisque sit amet ut enim. Donec lobortis lacus eget erat ultricies, ac luctus diam volutpat. Aliquam ut sollicitudin est, et ultrices est. Sed gravida imperdiet velit vitae dignissim. Cras feugiat varius ligula sed ultricies. Nam suscipit ut ligula id rutrum. Mauris sed imperdiet purus. Nam fringilla eleifend quam, eu egestas ipsum tempus sit amet.',\n",
       " 'Donec non rutrum elit. Curabitur fringilla nisi eu augue efficitur venenatis. Phasellus faucibus a elit sed cursus. Duis auctor sodales viverra. Cras a facilisis risus. Fusce sed arcu ultrices, vehicula arcu vitae, ultricies lorem. In posuere ante sit amet sapien commodo, ornare auctor nibh porttitor. In sit amet lectus mi. Vestibulum vulputate facilisis malesuada. Donec massa velit, sagittis quis blandit nec, laoreet at odio. In venenatis est porttitor, egestas metus vitae, sollicitudin libero. Donec aliquet euismod neque, at lacinia odio eleifend in. Donec tincidunt a mi non tincidunt. Etiam quis lectus id neque mollis ullamcorper. Quisque ac dolor justo.',\n",
       " 'Phasellus sed neque et odio dictum lobortis. Quisque sit amet justo quam. Integer commodo turpis sed massa rhoncus, eget rhoncus magna dictum. Proin sit amet vehicula mauris. Nunc tristique ut tellus id lobortis. Donec a est sit amet sapien pulvinar condimentum ac a risus. Morbi posuere dolor sit amet nisl ultrices, et ultricies urna dapibus. Vestibulum ut placerat nisl. Integer mollis non purus et dapibus. Proin sed dui posuere, bibendum nunc vel, luctus dolor. Sed non leo vitae risus aliquam efficitur. Duis a mauris quis libero efficitur condimentum ac in turpis. Nunc malesuada enim libero, ut congue mauris gravida nec.',\n",
       " 'Nunc bibendum urna vitae metus porttitor, ut laoreet lorem rutrum. Ut consequat quis quam ut facilisis. Nam non magna cursus massa semper mattis. Vivamus rhoncus, augue vitae efficitur posuere, mauris justo laoreet neque, in iaculis tellus erat ut ipsum. Suspendisse odio augue, tincidunt id lectus sed, hendrerit efficitur sem. Duis vitae nibh pulvinar, tincidunt orci a, mollis ex. Integer condimentum justo enim, eget ultricies libero bibendum sed. Duis magna mi, mattis sit ',\n",
       " 'amet diam quis, efficitur vehicula est. Etiam tincidunt turpis urna, ut dignissim risus lacinia in. Suspendisse a mollis magna, eu feugiat massa. Ut vitae erat vel tellus condimentum placerat venenatis a erat.',\n",
       " 'Suspendisse molestie nibh magna, eu maximus ante tincidunt tincidunt. Ut sit amet bibendum turpis, vitae iaculis nibh. Pellentesque consectetur facilisis sem, sed vehicula quam consectetur dapibus. Praesent eget urna aliquet, sollicitudin massa ut, tempor quam. In vehicula feugiat dui sed feugiat. Nulla laoreet placerat dui, congue placerat massa lobortis in. Curabitur eu pellentesque enim, vel congue dolor. Lorem ipsum dolor sit amet, consectetur adipiscing elit. Interdum et malesuada fames ac ante ipsum primis in faucibus. Sed placerat vulputate risus a convallis. Suspendisse laoreet volutpat libero id vulputate. Quisque sit amet scelerisque elit, vel ultrices felis. Vivamus tristique ex vitae maximus commodo.',\n",
       " 'Donec vestibulum tellus nec pellentesque imperdiet. Praesent fringilla molestie felis ut porta. Cras ac finibus ante. In ultricies nec sapien ac cursus. Duis semper scelerisque mi, non posuere urna scelerisque non. Pellentesque orci dui, scelerisque nec bibendum at, pellentesque vel nulla. Curabitur nec tempus ante. Praesent tortor arcu, egestas eu tellus nec, aliquam porta velit. Nam et urna id sem aliquam gravida. Suspendisse lacus ligula, facilisis ut sapien non, eleifend sodales risus. In a lacus eu nisi accumsan vulputate sed fringilla quam. Vivamus eros erat, suscipit vel rhoncus eu, venenatis sed mauris. Ut mollis imperdiet elit, vel vulputate massa ultricies non. Duis fermentum lectus ac lorem venenatis tempor.',\n",
       " 'Integer in vestibulum magna, a ornare dolor. Donec consectetur vestibulum sapien, imperdiet sodales tellus malesuada quis. Curabitur imperdiet enim pharetra lectus molestie, ut imperdiet purus pretium. Aliquam consectetur malesuada tortor, a lacinia arcu laoreet ut. Nulla vestibulum tortor nunc, maximus tempus dolor iaculis sit amet. Maecenas cursus quis mauris sed lobortis. Nam vehicula mauris nec ante tincidunt, vel malesuada tellus imperdiet. Praesent cursus tellus ligula, eu egestas nunc gravida in. Nunc consequat porta urna et posuere. Pellentesque lacinia tincidunt arcu at auctor. Nunc vehicula sem vel commodo imperdiet. Proin fringilla ac lorem suscipit sagittis. Nulla congue interdum purus, id tempus libero vulputate id. Vivamus feugiat dolor mauris, sed consectetur dui ornare lobortis.',\n",
       " 'Quisque nibh est, suscipit luctus tortor tincidunt, iaculis tincidunt tortor. Suspendisse mattis dui elementum suscipit laoreet. Ut sollicitudin elit nec eros tempus venenatis. Mauris ex libero, sollicitudin pretium orci placerat, semper mattis metus. Proin tincidunt dapibus diam, sit amet vehicula nisi porta id. Sed et turpis mauris. Etiam vitae vulputate risus. Donec consequat venenatis neque vitae euismod. Vivamus eleifend hendrerit lectus a fermentum. Curabitur eget lectus ut dui eleifend efficitur ac vitae ligula. Vestibulum auctor, tortor eu rhoncus blandit, est odio ultrices elit, gravida finibus felis felis eget urna. Vestibulum in metus quis eros efficitur tristique.',\n",
       " 'Morbi condimentum ut erat eu ultrices. Praesent porta nulla sit amet diam hendrerit, vel dapibus justo consectetur. Duis efficitur convallis elit, vel ornare diam tempus sed. Vestibulum ante ipsum primis in faucibus orci luctus et ultrices posuere cubilia Curae; Donec vestibulum turpis sed varius bibendum. Interdum et malesuada fames ac ante ipsum primis in faucibus. Vestibulum ante ipsum primis in faucibus orci luctus et ultrices posuere cubilia Curae; Cras ac sollicitudin erat. Mauris at iaculis dolor. Aliquam malesuada ligula et sapien accumsan, vel aliquet eros placerat. Phasellus pellentesque volutpat felis sit amet mattis. Fusce vestibulum tellus sit amet velit tincidunt congue et non nisi. Aenean tempor augue rutrum nisi euismod, sed porta orci mattis. Curabitur arcu erat, euismod in ipsum quis, tincidunt ornare neque.',\n",
       " 'Maecenas vehicula orci eget eros varius pulvinar. Orci varius natoque penatibus et magnis dis parturient montes, nascetur ridiculus mus. Donec vel pulvinar dui. Fusce commodo ipsum maximus justo ullamcorper semper. Integer erat ante, pulvinar in molestie ut, porttitor eget metus. Pellentesque fringilla, eros a mollis dapibus, odio lectus bibendum lacus, nec fermentum erat diam sed lacus. Nunc eros tellus, posuere sollicitudin nunc nec, vestibulum dapibus lectus. In hac habitasse platea dictumst. Curabitur vitae mollis ipsum, non iaculis urna. Sed convallis nisi magna, eu tincidunt est hendrerit ac. Integer fermentum dui eu nisl molestie ullamcorper. Nunc commodo dignissim mauris, sed pretium urna tristique at. Nullam eu metus massa. Phasellus dictum purus diam, vitae rhoncus tellus aliquam vel. Nullam quis turpis quam. Aliquam at sagittis velit.',\n",
       " 'Quisque finibus placerat sagittis. Donec fermentum leo eu dolor varius pellentesque. Nunc posuere ex ex, at viverra tellus molestie ut. Fusce urna ex, vehicula eget blandit et, molestie ut lorem. Vestibulum sed magna velit. Praesent quis porta risus, sit amet molestie tortor. Aliquam iaculis est id urna bibendum, sed tempor est mollis. Donec condimentum aliquam mauris, a molestie neque semper quis.',\n",
       " 'Sed eu faucibus mi. Mauris luctus quis nisi ut egestas. Donec tempus turpis et dui dictum, a tincidunt nisl sagittis. Aliquam tristique vehicula dui eget dapibus. Sed arcu mauris, feugiat sed ex ac, consectetur finibus justo. Interdum et malesuada fames ac ante ipsum primis in faucibus. Donec malesuada, ligula vitae convallis fermentum, tellus mauris dictum justo, a blandit sapien arcu sit amet mi. Morbi porta metus elit, vel egestas ipsum tristique ut. Fusce euismod ante odio, ut interdum tellus imperdiet vitae. Lorem ipsum dolor sit amet, consectetur adipiscing elit. Suspendisse commodo, tellus ac varius egestas, magna nisi condimentum nunc, vitae tincidunt nisl lorem eget eros. Duis tristique ultrices magna, a varius ligula ornare pharetra. Fusce luctus nisl est, ac semper nunc dignissim tempor.',\n",
       " 'Praesent sed lorem lorem. Donec egestas eros nec rhoncus efficitur. Duis nec mi arcu. Suspendisse in elit elit. Suspendisse potenti. Pellentesque habitant morbi tristique senectus et netus et malesuada fames ac turpis egestas. Quisque mattis metus eu nisi commodo, in semper orci malesuada. Nullam ullamcorper dapibus dolor in egestas.',\n",
       " 'Aenean faucibus dui sit amet interdum laoreet. Sed ac pretium arcu, at dictum nisl. Donec ullamcorper ac diam et finibus. Suspendisse hendrerit lorem sem, ut mattis ipsum malesuada vel. Morbi ullamcorper elementum viverra. Fusce eget placerat urna, et ornare tortor. Suspendisse facilisis lorem at nunc semper rhoncus. Quisque volutpat non est vitae dapibus. Suspendisse imperdiet facilisis nibh nec sodales.',\n",
       " 'Cras sagittis porttitor odio, in pretium mauris finibus ut. Aliquam venenatis magna massa, id accumsan mi blandit quis. In vehicula euismod mollis. Donec volutpat, tortor in auctor cursus, urna nibh scelerisque magna, nec consectetur odio magna nec nisi. Suspendisse commodo euismod diam eget rutrum. Suspendisse vel laoreet ex. In sed sodales nisl. Sed et hendrerit magna. Suspendisse pulvinar id elit sit amet scelerisque. Suspendisse dictum nisl in sapien iaculis ultrices in a risus. In tristique sapien est, vel mollis magna egestas at. Aenean ullamcorper nisl at metus feugiat, non egestas urna bibendum.',\n",
       " 'Quisque pharetra ac nunc at tincidunt. Nulla vel ipsum nec elit blandit hendrerit. Quisque magna eros, imperdiet non elementum id, blandit nec eros. Etiam pharetra condimentum mi, sit amet dictum dolor vulputate ut. Nam pellentesque velit a ullamcorper condimentum. Integer orci dui, elementum non augue non, accumsan facilisis augue. Phasellus pharetra lorem et eros vehicula varius. Vestibulum elementum nunc eget sagittis laoreet. Suspendisse mauris massa, aliquet sed eros ac, tempus elementum nisl. Integer vel congue libero, at sagittis dui. Aliquam viverra nisl dolor, ac volutpat neque maximus vel. Etiam faucibus fermentum nulla malesuada rutrum. Pellentesque imperdiet tincidunt augue.',\n",
       " 'Phasellus sagittis quis justo gravida placerat. Praesent congue mattis nulla, vitae vehicula tortor efficitur in. Maecenas cursus odio risus, dictum molestie enim pulvinar ut. Praesent nibh erat, accumsan a tellus vel, fringilla ultrices sem. Donec vel enim a orci mollis scelerisque. Mauris at imperdiet metus. Nulla commodo fermentum ex a varius. Morbi ac quam non nisl pellentesque feugiat. Praesent a aliquet elit, vitae imperdiet felis. Donec bibendum ipsum metus, quis rhoncus orci convallis at. Duis pharetra nisl id blandit malesuada. Donec sodales a eros fringilla congue.',\n",
       " 'Etiam eleifend massa non sapien viverra fringilla. Vivamus tempor sodales ante eu finibus. Phasellus sit amet elementum diam. Phasellus eget diam diam. Nunc rutrum lacus ut elementum congue. Donec justo felis, tempus ac sodales vitae, faucibus sit amet nibh. Nam consequat sit amet nisi a hendrerit. Ut auctor non lectus eu semper. Curabitur sollicitudin libero vitae ante pulvinar, vel laoreet nunc finibus. Praesent vel convallis est. Interdum et malesuada fames ac ante ipsum primis in faucibus.',\n",
       " 'Morbi efficitur odio ac tortor consequat, eget vehicula odio vulputate. Nunc ut eros ante. Donec ornare mi sit amet enim porttitor, a tincidunt mauris laoreet. Aenean scelerisque eu eros nec euismod. Fusce ut turpis turpis. Integer justo nibh, efficitur eu dignissim at, mattis eu arcu. Curabitur luctus libero fringilla risus bibendum tincidunt. Morbi ullamcorper, leo ut tincidunt posuere, lacus augue placerat nisl, eget lacinia eros ante sed risus. Vestibulum neque ante, feugiat vel vestibulum eu, faucibus sit amet arcu. Curabitur consectetur nunc sed rutrum fringilla. Donec posuere, elit sit amet sodales sollicitudin, lacus eros mattis libero, non hendrerit lacus lacus vulputate purus. Vestibulum eget diam quis nisl interdum placerat ut in lacus. Vestibulum rutrum ',\n",
       " 'dui ipsum, in elementum ipsum semper id. Etiam lacinia tellus sit amet nisi finibus, vel ornare elit vestibulum.',\n",
       " 'Sed accumsan volutpat pellentesque. Donec vestibulum, felis quis vestibulum commodo, elit ligula blandit augue, et iaculis nulla velit nec nunc. Phasellus magna dui, interdum vitae nulla eget, ornare pharetra leo. Quisque ultrices posuere lorem id ultrices. Phasellus eget bibendum eros. Maecenas porttitor dictum justo, et euismod metus scelerisque eget. Vivamus et mi tincidunt, pretium augue sit amet, porta libero. Morbi luctus eu purus quis consectetur. Aliquam elementum sapien ipsum, ',\n",
       " 'at imperdiet orci sagittis congue. Sed ullamcorper leo tincidunt, mollis orci non, maximus odio. Nunc id justo iaculis, ultrices velit a, cursus enim. Proin a metus vitae lorem fringilla ullamcorper. Curabitur mattis suscipit dui, vitae posuere dui posuere aliquam. Aenean sit amet posuere turpis. Morbi maximus non odio at posuere.',\n",
       " 'Sed ultrices faucibus placerat. Donec sagittis lacus at sagittis mollis. Cras ut suscipit turpis. Sed vehicula, eros eget rutrum vulputate, lectus est ullamcorper mi, ac dignissim risus odio at sem. Suspendisse potenti. Morbi quis sagittis felis, ut sodales justo. Maecenas feugiat varius risus, a pulvinar mi. Aenean accumsan eros nulla, ac tincidunt erat viverra id. Integer laoreet hendrerit nulla, id varius magna tristique non. Aenean id quam nibh. Aliquam eu hendrerit urna. Curabitur at interdum dui. Praesent id sem facilisis, facilisis quam vel, consectetur sem.',\n",
       " 'Orci varius natoque penatibus et magnis dis parturient montes, nascetur ridiculus mus. Aliquam convallis odio ac aliquet dignissim. Suspendisse potenti. Proin aliquet libero dui, non efficitur lectus egestas ut. Morbi sodales ultrices quam, vitae luctus elit rutrum sed. Ut sagittis ullamcorper dui non sodales. Mauris vitae orci feugiat, accumsan purus at, viverra leo. Fusce suscipit diam sit amet facilisis consectetur. Morbi luctus rhoncus dignissim. Maecenas semper magna id nunc auctor blandit. In pulvinar mattis enim a convallis. Cras aliquet urna faucibus ipsum venenatis venenatis.']"
      ]
     },
     "execution_count": 49,
     "metadata": {},
     "output_type": "execute_result"
    }
   ],
   "source": [
    "readDocFile(\"/home/mukesh/Downloads/sample-docx-file-for-testing.docx\")"
   ]
  },
  {
   "cell_type": "markdown",
   "metadata": {},
   "source": [
    "## 18.Write a function which can help you to filter only word file from directory"
   ]
  },
  {
   "cell_type": "code",
   "execution_count": 84,
   "metadata": {},
   "outputs": [],
   "source": [
    "# importing regex module\n",
    "import re\n",
    "'''This function takes directory name as a input and return the filename whose extension match with docx'''\n",
    "def filterDoc(src):\n",
    "    ## this list contains the name of docx file\n",
    "    l = []\n",
    "    ## returns all the filesname\n",
    "    files = os.listdir(src)\n",
    "    for f in files:\n",
    "        ## matching extension with docx\n",
    "        match = re.search(\"\\.docx$\", f)\n",
    "        if match:\n",
    "            l.append(f)\n",
    "    return l        "
   ]
  },
  {
   "cell_type": "code",
   "execution_count": 64,
   "metadata": {},
   "outputs": [
    {
     "data": {
      "text/plain": [
       "['sample-docx-file-for-testing.docx',\n",
       " 'Resume.docx',\n",
       " 'Resume_latest.docx',\n",
       " 'Resume_mk.docx',\n",
       " 'face recognition.docx',\n",
       " 'Setup-SO.docx']"
      ]
     },
     "execution_count": 64,
     "metadata": {},
     "output_type": "execute_result"
    }
   ],
   "source": [
    "filterDoc(\"/home/mukesh/Downloads/\")"
   ]
  },
  {
   "cell_type": "markdown",
   "metadata": {},
   "source": [
    "## 19.Write a function by which you can print an ip address of your system."
   ]
  },
  {
   "cell_type": "code",
   "execution_count": 69,
   "metadata": {},
   "outputs": [],
   "source": [
    "## importing socket module\n",
    "import socket\n",
    "\n",
    "def findIP():\n",
    "    # getting the hostname by socket.gethostname() method\n",
    "    hostname = socket.gethostname()\n",
    "    # getting the IP address using socket.gethostbyname() method\n",
    "    ip_address = socket.gethostbyname(hostname)\n",
    "    return ip_address"
   ]
  },
  {
   "cell_type": "code",
   "execution_count": 70,
   "metadata": {},
   "outputs": [
    {
     "data": {
      "text/plain": [
       "'192.168.1.45'"
      ]
     },
     "execution_count": 70,
     "metadata": {},
     "output_type": "execute_result"
    }
   ],
   "source": [
    "findIP()"
   ]
  },
  {
   "cell_type": "markdown",
   "metadata": {},
   "source": [
    "## 20.write a function by which you will be able to append two PDF files."
   ]
  },
  {
   "cell_type": "code",
   "execution_count": 81,
   "metadata": {},
   "outputs": [],
   "source": [
    "'''This function takes input as a variable number of file path and if file exist then merge the all the files '''\n",
    "def mergePdf(*srcs):\n",
    "    #Initializing the file merger.This will merge all pdf file.\n",
    "    merger = PyPDF2.PdfFileMerger()\n",
    "    for f in srcs:\n",
    "        merger.append(f)\n",
    "    #Writting the all the pdf file into the final pdf    \n",
    "    merger.write(\"final.pdf\")\n",
    "    #Closing the stream\n",
    "    merger.close()\n",
    "    "
   ]
  },
  {
   "cell_type": "code",
   "execution_count": 82,
   "metadata": {},
   "outputs": [],
   "source": [
    "mergePdf(\"/home/mukesh/Downloads/sample_1.pdf\",\"/home/mukesh/Downloads/sample_2.pdf\")"
   ]
  },
  {
   "cell_type": "code",
   "execution_count": 79,
   "metadata": {},
   "outputs": [
    {
     "name": "stdout",
     "output_type": "stream",
     "text": [
      "final.pdf\n"
     ]
    }
   ],
   "source": [
    "'''This piece of code is validate wheather final pdf file is writter in current directory''' \n",
    "## List directory returns the files in the current directory\n",
    "files = os.listdir()\n",
    "##iterate over the filenames \n",
    "for i in files:\n",
    "    ## Used regex to match the file filename\n",
    "    match = re.search(\"\\.pdf$\", i)\n",
    "    ## if matching found then return the file name\n",
    "    if match:\n",
    "        print(i)"
   ]
  },
  {
   "cell_type": "code",
   "execution_count": null,
   "metadata": {},
   "outputs": [],
   "source": []
  },
  {
   "cell_type": "code",
   "execution_count": null,
   "metadata": {},
   "outputs": [],
   "source": []
  }
 ],
 "metadata": {
  "kernelspec": {
   "display_name": "Python 3",
   "language": "python",
   "name": "python3"
  },
  "language_info": {
   "codemirror_mode": {
    "name": "ipython",
    "version": 3
   },
   "file_extension": ".py",
   "mimetype": "text/x-python",
   "name": "python",
   "nbconvert_exporter": "python",
   "pygments_lexer": "ipython3",
   "version": "3.7.6"
  }
 },
 "nbformat": 4,
 "nbformat_minor": 4
}
