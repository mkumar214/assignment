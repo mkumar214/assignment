{
 "cells": [
  {
   "cell_type": "markdown",
   "metadata": {},
   "source": [
    "#### 1. In the below elements which of them are values or an expression? eg:- values can be integer or string and expressions will be mathematical operators.\n",
    "<code>*</code> \n",
    "<code>'hello'</code>\n",
    "<code>-87.8</code>\n",
    "<code>- /</code>\n",
    "<code> + </code> \n",
    "<code>6 </code>"
   ]
  },
  {
   "cell_type": "markdown",
   "metadata": {},
   "source": [
    "#### Solution\n",
    "###### 1.1. Value\n",
    "<hr></hr>\n",
    "<ol>\n",
    "    <li>'hello'</li>\n",
    "    <li>-87.8</li>\n",
    "    <li>6</li>\n",
    "</ol>\n",
    "<hr></hr>\n",
    "\n",
    "###### 1.2. Mathematical Exp.\n",
    "<hr></hr>\n",
    "<ol>\n",
    "    <li>*</li>\n",
    "    <li>-</li>\n",
    "    <li>/</li>\n",
    "    <li>+</li>\n",
    "</ol>\n",
    "<hr></hr>"
   ]
  },
  {
   "cell_type": "markdown",
   "metadata": {},
   "source": [
    "#### 2. What is the difference between string and variable?\n",
    "#### Sol.\n",
    "<hr></hr>\n",
    "<b>String</b> is a data type of sequence of character.In addition of character this also include number and special character like space, line break('\\n') etc.String is not used for the calculation.<br/>\n",
    "<b>Variable</b> is something that holds a value that may change."
   ]
  },
  {
   "cell_type": "markdown",
   "metadata": {},
   "source": [
    "#### 3. Describe three different data types.\n",
    "#### Sol.\n",
    "<hr></hr>\n",
    "<ul>\n",
    "    <li><b>Numeric:</b></li>\n",
    "    <p>Numeric data type represent the data which has numeric value.Numeric value can be integer, floating or even complex number.</p>\n",
    "    <li><b>Boolean:</b></li>\n",
    "    <p> This data type represent two values : True and False\n",
    "    <li><b>Dictionary:</b></li>\n",
    "    <p>This is an unordered collection of data values.This store values in the form of key and values.This work as associative array or hashes</p>\n",
    "</ul>"
   ]
  },
  {
   "cell_type": "markdown",
   "metadata": {},
   "source": [
    "#### 4. What is an expression made up of? What do all expressions do?\n",
    "#### Sol.\n",
    "<hr></hr>\n",
    "<p> An expression is combination of operator, constant and variable.A expression may consist of one or more operator, constant and variable for computation and produce the result according to that.</p>\n",
    "<b><u>Types of Expression</u></b> \n",
    "<ul>\n",
    "    <li><b>Constant Expression</b></li>\n",
    "    <p>result = 5+5</p>\n",
    "    <li><b>Integral Expression</b></li>\n",
    "     <p>result = x*y</p>\n",
    "    <li><b>Floating Expression</b></li>\n",
    "     <p>result = 10.5+y</p>\n",
    "    <li><b>Relation Expression</b></li>\n",
    "     <p>result = x<=y</p>\n",
    "    <li><b>Logical Expression</b></li>\n",
    "     <p>result = (x>y && x>18)</p>\n",
    "    <li><b>Pointer Expression</b></li>\n",
    "     <p>result = index++</p>\n",
    "    <li><b>Bitwise Expression</b></li>\n",
    "     <p>result = x<<3 </p>\n",
    "</ul>"
   ]
  },
  {
   "cell_type": "markdown",
   "metadata": {},
   "source": [
    "#### 5. This assignment statements, like spam = 10. What is the difference between an expression and a statement?\n",
    "#### Sol.\n",
    "<u>Difference between assignment operator \"and\" expression </u>\n",
    "<ul>\n",
    "    <li> Assigment operator is used for assiging the value to the variable whereas expression is used for computation and similarity check between operands.</li>\n",
    "    <li> Calculation is not performed on the assignment operator.This only allocate the memory references whereas in expression calculation is performed first and then assign the result to variable if present.\n",
    "        "
   ]
  },
  {
   "cell_type": "markdown",
   "metadata": {},
   "source": [
    "#### 6. After running the following code, what does the variable bacon contain?\n",
    "<code>bacon = 22\n",
    "bacon + 1</code>\n",
    "#### Sol.\n",
    "<p><b>bacon</b> will hold 22 only.There is impact on this because <code>bacon+1</code> is only expression, this only calculate the expression<p>"
   ]
  },
  {
   "cell_type": "markdown",
   "metadata": {},
   "source": [
    "#### 7. What should the values of the following two terms be?\n",
    "<ol>\n",
    "    <li><code>'spam' + 'spamspam'</code></li>\n",
    "    <li><code>'spam' * 3</code></li>\n",
    "    </ol>\n",
    "    \n",
    "#### Sol.\n",
    "<ol>\n",
    "    <li><code>'spam' + 'spamspam'</code></li>\n",
    "    Above line of code concate both string.<br/>\n",
    "    <b>Output</b>\n",
    "    <br/>'spamspamspam'\n",
    "    <li><code>'spam' * 3</code></li>\n",
    "    Above one is expression and this will generate 'spam' three times.\n",
    "    <br/><b>output</b>\n",
    "    <br/>'spamspamspam'\n",
    "    </ol>\n"
   ]
  },
  {
   "cell_type": "markdown",
   "metadata": {},
   "source": [
    "#### 8. Why is eggs a valid variable name while 100 is invalid?\n",
    "#### Sol.\n",
    "100 is a literal that why this is invalid while egg is valid."
   ]
  },
  {
   "cell_type": "markdown",
   "metadata": {},
   "source": [
    "#### 9. What three functions can be used to get the integer, floating-point number, or string version of a value?\n",
    "#### Sol.\n",
    "<ul>\n",
    "    <li>str() : For string conversion.</li>\n",
    "    <li>int(): For int conversion.</li>\n",
    "    <li>float(): For float conversion. </li>\n",
    "</ul>\n"
   ]
  },
  {
   "cell_type": "code",
   "execution_count": 9,
   "metadata": {},
   "outputs": [
    {
     "data": {
      "text/plain": [
       "'10'"
      ]
     },
     "execution_count": 9,
     "metadata": {},
     "output_type": "execute_result"
    }
   ],
   "source": [
    "str(10)"
   ]
  },
  {
   "cell_type": "code",
   "execution_count": 10,
   "metadata": {},
   "outputs": [
    {
     "data": {
      "text/plain": [
       "10"
      ]
     },
     "execution_count": 10,
     "metadata": {},
     "output_type": "execute_result"
    }
   ],
   "source": [
    "int('10')"
   ]
  },
  {
   "cell_type": "code",
   "execution_count": 11,
   "metadata": {},
   "outputs": [
    {
     "data": {
      "text/plain": [
       "20.0"
      ]
     },
     "execution_count": 11,
     "metadata": {},
     "output_type": "execute_result"
    }
   ],
   "source": [
    "float(20)"
   ]
  },
  {
   "cell_type": "markdown",
   "metadata": {},
   "source": [
    "#### 10. Why does this expression cause an error? How can you fix it?\n",
    "<p>'I have eaten ' + 99 + ' burritos.'<p>\n",
    "    \n",
    "#### Sol.<br/>\n",
    "    In above statement 99 is an integer. We need to convert this into string first and this will work.Please go through below code."
   ]
  },
  {
   "cell_type": "code",
   "execution_count": 14,
   "metadata": {},
   "outputs": [
    {
     "data": {
      "text/plain": [
       "'I have eaten 99 burritos.'"
      ]
     },
     "execution_count": 14,
     "metadata": {},
     "output_type": "execute_result"
    }
   ],
   "source": [
    "'I have eaten ' + str(99) + ' burritos.'"
   ]
  },
  {
   "cell_type": "code",
   "execution_count": null,
   "metadata": {},
   "outputs": [],
   "source": []
  }
 ],
 "metadata": {
  "kernelspec": {
   "display_name": "Python 3",
   "language": "python",
   "name": "python3"
  },
  "language_info": {
   "codemirror_mode": {
    "name": "ipython",
    "version": 3
   },
   "file_extension": ".py",
   "mimetype": "text/x-python",
   "name": "python",
   "nbconvert_exporter": "python",
   "pygments_lexer": "ipython3",
   "version": "3.7.6"
  }
 },
 "nbformat": 4,
 "nbformat_minor": 4
}
