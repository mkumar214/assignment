{
 "cells": [
  {
   "cell_type": "markdown",
   "id": "4b3073ad-eba8-4119-944f-a00b4a4b0e73",
   "metadata": {},
   "source": [
    "#### 1. Why are functions advantageous to have in your programs?\n",
    "<u>Sol.</u>\n",
    "Following are the advantageous of function:\n",
    "<ul>\n",
    "    <li><b>Code Reusablity</b>:Function provides the code reusability.If same picece of code is used multiple places then this impact on code readiability as well as increase the lines of code.If we use function then we provide implementation inside the function and later whenever required we can call the function.This increase more readiability.</li>\n",
    "    <li><b>Code Modularity</b>: This also provide the code modularity.If we follows the coding convention then naming of function itself more informatic to understand the purpose of the function.On the other hand, this will also not impact on the part of the code.This helps us lot in debugging and writing the test cases</li>\n",
    "    <li><b>Provide Abstraction</b>:  This also provide the abtraction.</li>\n",
    "    <li><b>Unit Testcases</b>:  This also help in writting the unit test cases.</li>\n",
    "</ul>\n",
    "    "
   ]
  },
  {
   "cell_type": "markdown",
   "id": "1f222acc-5392-4882-81d2-70eb2ca279de",
   "metadata": {},
   "source": [
    "#### 2.When does the code in a function run: when it's specified or when it's called?\n",
    "<u>Sol.</u><br>\n",
    "Code inside the function run whenever fuction call in the program."
   ]
  },
  {
   "cell_type": "code",
   "execution_count": 1,
   "id": "2cd6d1bc-3d51-44b4-b573-2650c39e07c0",
   "metadata": {},
   "outputs": [],
   "source": [
    "def toUpper(str):\n",
    "    return str.capitalize()"
   ]
  },
  {
   "cell_type": "code",
   "execution_count": 2,
   "id": "40c0dc02-c680-4b39-a90c-3e13bc5fbe7a",
   "metadata": {},
   "outputs": [
    {
     "data": {
      "text/plain": [
       "'Mukesh'"
      ]
     },
     "execution_count": 2,
     "metadata": {},
     "output_type": "execute_result"
    }
   ],
   "source": [
    "toUpper(\"mukesh\")"
   ]
  },
  {
   "cell_type": "markdown",
   "id": "af4a6db6-d0ba-433e-b986-0e056543d9b7",
   "metadata": {},
   "source": [
    "#### 3. What statement creates a function?\n",
    "<u>Sol.</u><br/>\n",
    "<b>def </b> keyword is a statment create function."
   ]
  },
  {
   "cell_type": "code",
   "execution_count": 4,
   "id": "4aaf42ab-6a05-45b7-bc8d-3ce90b6fcb98",
   "metadata": {},
   "outputs": [],
   "source": [
    "def toLower(str):\n",
    "    return str.lower()"
   ]
  },
  {
   "cell_type": "code",
   "execution_count": 5,
   "id": "3cd825f1-860f-46cb-bfdb-b959554fede1",
   "metadata": {},
   "outputs": [
    {
     "data": {
      "text/plain": [
       "'mukesh'"
      ]
     },
     "execution_count": 5,
     "metadata": {},
     "output_type": "execute_result"
    }
   ],
   "source": [
    "toLower(\"MUKESH\")"
   ]
  },
  {
   "cell_type": "markdown",
   "id": "ff20dfca-805d-489c-8985-6583ace65437",
   "metadata": {},
   "source": [
    "#### 4. What is the difference between a function and a function call?\n",
    "<u>Sol.</u><br/>\n",
    "<b> Function </b> is declearation/implementation of set of the code where as <b> Fuction call </b> is calling a function which is declare earlier.While program call the function then all the code inside the function execute."
   ]
  },
  {
   "cell_type": "code",
   "execution_count": 6,
   "id": "3d82e392-a51e-40b8-befd-2a871284624b",
   "metadata": {},
   "outputs": [],
   "source": [
    "## declare of the function\n",
    "def toLower(str):\n",
    "    return str.lower()"
   ]
  },
  {
   "cell_type": "code",
   "execution_count": 7,
   "id": "74e2bbbd-4690-4673-9527-43d8ca12f4a2",
   "metadata": {},
   "outputs": [
    {
     "data": {
      "text/plain": [
       "'mukesh'"
      ]
     },
     "execution_count": 7,
     "metadata": {},
     "output_type": "execute_result"
    }
   ],
   "source": [
    "## function call\n",
    "toLower(\"MUKESH\")"
   ]
  },
  {
   "cell_type": "markdown",
   "id": "a467bcb4-aed3-468f-8b42-cc23cbe715ff",
   "metadata": {},
   "source": [
    "#### 5. How many global scopes are there in a Python program? How many local scopes?\n",
    "<u>Sol.</u><br/>\n",
    "<b>Global Scope</b>:There are only one global scope per program execution.This scope reamins in existence until the program terminates and all its name are forgotten."
   ]
  },
  {
   "cell_type": "code",
   "execution_count": 16,
   "id": "39f1d47b-95da-44fc-a08a-3ba8b5882c26",
   "metadata": {},
   "outputs": [],
   "source": [
    "age = 100\n",
    "\n",
    "def increment(counter):\n",
    "    return age+counter"
   ]
  },
  {
   "cell_type": "code",
   "execution_count": 17,
   "id": "91ef78eb-161a-4acd-81af-26331427106d",
   "metadata": {},
   "outputs": [
    {
     "data": {
      "text/plain": [
       "102"
      ]
     },
     "execution_count": 17,
     "metadata": {},
     "output_type": "execute_result"
    }
   ],
   "source": [
    "increment(2)"
   ]
  },
  {
   "cell_type": "code",
   "execution_count": 18,
   "id": "8d5786f8-e924-4aec-9009-374f569e5974",
   "metadata": {},
   "outputs": [
    {
     "data": {
      "text/plain": [
       "103"
      ]
     },
     "execution_count": 18,
     "metadata": {},
     "output_type": "execute_result"
    }
   ],
   "source": [
    "increment(3)"
   ]
  },
  {
   "cell_type": "markdown",
   "id": "a82989b1-8997-4cf4-8d4c-df6ac7855a59",
   "metadata": {},
   "source": [
    "There are two type of local scope, 1) Local 2)Enclosing \n",
    "<ul>\n",
    "    <li><b>Local Scope:</b></li> Local scope refers to variables defined in the current function.Life of local variable limit to the function call.\n",
    "    <li><b>Enclosed Scope:</b></li> This is also a local scope but there must be a nested function for this scope.\n",
    "</ul>\n",
    "    "
   ]
  },
  {
   "cell_type": "code",
   "execution_count": 21,
   "id": "c57b4105-4ad4-4d1f-bdc5-ce5d20d636e8",
   "metadata": {},
   "outputs": [],
   "source": [
    "## Local Scope\n",
    "def minor_age_limit():\n",
    "    age = 17\n",
    "    return age"
   ]
  },
  {
   "cell_type": "code",
   "execution_count": 22,
   "id": "901a6c8a-6f7d-4c79-a960-2306e042a530",
   "metadata": {},
   "outputs": [
    {
     "data": {
      "text/plain": [
       "17"
      ]
     },
     "execution_count": 22,
     "metadata": {},
     "output_type": "execute_result"
    }
   ],
   "source": [
    "minor_age_limit()"
   ]
  },
  {
   "cell_type": "code",
   "execution_count": 25,
   "id": "0151abcd-db0d-4a6a-9ad6-45060ce3b8ee",
   "metadata": {},
   "outputs": [],
   "source": [
    "## Enclosing Scope\n",
    "def outer():\n",
    "    first_name =1\n",
    "    def inner():\n",
    "        second_num = 2\n",
    "        print (\"first name from outer:\",first_name)\n",
    "        print(\"second_num from inner:\",second_num)\n",
    "    inner()\n",
    "    print(\"Second_num from inner:\",second_num)\n",
    "        "
   ]
  },
  {
   "cell_type": "code",
   "execution_count": 26,
   "id": "c502b742-bb1f-487e-945f-f3553bddbf3e",
   "metadata": {},
   "outputs": [
    {
     "name": "stdout",
     "output_type": "stream",
     "text": [
      "first name from outer: 1\n",
      "second_num from inner: 2\n"
     ]
    },
    {
     "ename": "NameError",
     "evalue": "name 'second_num' is not defined",
     "output_type": "error",
     "traceback": [
      "\u001b[0;31m---------------------------------------------------------------------------\u001b[0m",
      "\u001b[0;31mNameError\u001b[0m                                 Traceback (most recent call last)",
      "\u001b[0;32m/tmp/ipykernel_83785/3778337650.py\u001b[0m in \u001b[0;36m<module>\u001b[0;34m\u001b[0m\n\u001b[0;32m----> 1\u001b[0;31m \u001b[0mouter\u001b[0m\u001b[0;34m(\u001b[0m\u001b[0;34m)\u001b[0m\u001b[0;34m\u001b[0m\u001b[0;34m\u001b[0m\u001b[0m\n\u001b[0m",
      "\u001b[0;32m/tmp/ipykernel_83785/1118858653.py\u001b[0m in \u001b[0;36mouter\u001b[0;34m()\u001b[0m\n\u001b[1;32m      7\u001b[0m         \u001b[0mprint\u001b[0m\u001b[0;34m(\u001b[0m\u001b[0;34m\"second_num from inner:\"\u001b[0m\u001b[0;34m,\u001b[0m\u001b[0msecond_num\u001b[0m\u001b[0;34m)\u001b[0m\u001b[0;34m\u001b[0m\u001b[0;34m\u001b[0m\u001b[0m\n\u001b[1;32m      8\u001b[0m     \u001b[0minner\u001b[0m\u001b[0;34m(\u001b[0m\u001b[0;34m)\u001b[0m\u001b[0;34m\u001b[0m\u001b[0;34m\u001b[0m\u001b[0m\n\u001b[0;32m----> 9\u001b[0;31m     \u001b[0mprint\u001b[0m\u001b[0;34m(\u001b[0m\u001b[0;34m\"Second_num from inner:\"\u001b[0m\u001b[0;34m,\u001b[0m\u001b[0msecond_num\u001b[0m\u001b[0;34m)\u001b[0m\u001b[0;34m\u001b[0m\u001b[0;34m\u001b[0m\u001b[0m\n\u001b[0m\u001b[1;32m     10\u001b[0m \u001b[0;34m\u001b[0m\u001b[0m\n",
      "\u001b[0;31mNameError\u001b[0m: name 'second_num' is not defined"
     ]
    }
   ],
   "source": [
    "outer()"
   ]
  },
  {
   "cell_type": "code",
   "execution_count": 27,
   "id": "4bfb729e-ff80-4755-a540-ec877a9d4bde",
   "metadata": {},
   "outputs": [],
   "source": [
    "## second_num has enclosing scope.Hence, this is not visiable outside the inner method."
   ]
  },
  {
   "cell_type": "markdown",
   "id": "ec20f2e3-a40e-48a4-bf70-5aea67b84d78",
   "metadata": {},
   "source": [
    "#### 6. What happens to variables in a local scope when the function call returns?\n",
    "<u>Sol.</u>\n",
    "Local scope is only limiting to functional only.So, whenever return statement is called inside the value actual value will return and local variable reference removed from the memory."
   ]
  },
  {
   "cell_type": "markdown",
   "id": "a5d7e171-697c-4ea0-9b4f-8a500be63342",
   "metadata": {},
   "source": [
    "#### 7. What is the concept of a return value? Is it possible to have a return value in an expression?\n",
    "<u>Sol.</u>\n",
    "A return statement is used to end the execution of the function call and “returns” the result (value of the expression following the return keyword) to the caller. The statements after the return statements are not executed. If the return statement is without any expression, then the special value None is returned. Yes, this is possiable to have a return value in expression."
   ]
  },
  {
   "cell_type": "code",
   "execution_count": 2,
   "id": "54b4de32-3474-4d7c-817b-2b6decda03fc",
   "metadata": {},
   "outputs": [],
   "source": [
    "def add(a, b):\n",
    " \n",
    "    # returning sum of a and b\n",
    "    return a + b"
   ]
  },
  {
   "cell_type": "code",
   "execution_count": 3,
   "id": "ffdc9e00-fce5-456e-9c35-d532d99c3224",
   "metadata": {},
   "outputs": [
    {
     "data": {
      "text/plain": [
       "30"
      ]
     },
     "execution_count": 3,
     "metadata": {},
     "output_type": "execute_result"
    }
   ],
   "source": [
    "add(10,20)"
   ]
  },
  {
   "cell_type": "markdown",
   "id": "8dce31da-cb43-4bc9-9e04-1e66b3932dcd",
   "metadata": {},
   "source": [
    "#### 8. If a function does not have a return statement, what is the return value of a call to that function?\n",
    "<u>Sol.</u>\n",
    "If the return statement is without any expression, then the special value None is returned."
   ]
  },
  {
   "cell_type": "code",
   "execution_count": 4,
   "id": "65a7b36c-940b-4301-b836-93b7bd04e732",
   "metadata": {},
   "outputs": [],
   "source": [
    "def none_fun():\n",
    "    return"
   ]
  },
  {
   "cell_type": "code",
   "execution_count": 6,
   "id": "e2bbfd28-f0b1-4043-9a16-494748eb841d",
   "metadata": {},
   "outputs": [
    {
     "name": "stdout",
     "output_type": "stream",
     "text": [
      "None\n"
     ]
    }
   ],
   "source": [
    "print(none_fun())"
   ]
  },
  {
   "cell_type": "markdown",
   "id": "e37a6b26-f6ee-4549-b432-e67af4706c26",
   "metadata": {},
   "source": [
    "#### 9. How do you make a function variable refer to the global variable?"
   ]
  },
  {
   "cell_type": "code",
   "execution_count": 7,
   "id": "b756bf61-cd85-495f-aeb6-ee0a1715b7d9",
   "metadata": {},
   "outputs": [],
   "source": [
    "def create_global_age_limit():\n",
    "    global global_variable # must declare it to be a global first\n",
    "    # modifications are thus reflected on the module's global scope\n",
    "    global_variable = 18 "
   ]
  },
  {
   "cell_type": "code",
   "execution_count": 8,
   "id": "2f53e72a-2b5c-4dfa-a9fe-da2704141d3f",
   "metadata": {},
   "outputs": [],
   "source": [
    "create_global_age_limit()"
   ]
  },
  {
   "cell_type": "code",
   "execution_count": 9,
   "id": "9b780486-1371-4c8c-bfcd-9dfae0eb2c1e",
   "metadata": {},
   "outputs": [],
   "source": [
    "def left_adult_year(age):\n",
    "    return global_variable-age"
   ]
  },
  {
   "cell_type": "code",
   "execution_count": 10,
   "id": "e7ea9f0f-4b38-41ea-95d2-444ce39da06f",
   "metadata": {},
   "outputs": [
    {
     "name": "stdout",
     "output_type": "stream",
     "text": [
      "8\n"
     ]
    }
   ],
   "source": [
    "print(left_adult_year(10))"
   ]
  },
  {
   "cell_type": "markdown",
   "id": "d562f6a0-2bee-4779-a8e6-4d08f55fb294",
   "metadata": {},
   "source": [
    "#### 10. What is the data type of None?\n",
    "<u>Sol.</u> None is used to defined a null value.It is a data type of the class NoneType object.Assigning a value of None to a variable is one way to reset it to its original,empty state."
   ]
  },
  {
   "cell_type": "markdown",
   "id": "8220789a-da98-4871-a64b-b21a8ea7e670",
   "metadata": {},
   "source": [
    "#### 11. What does the sentence import areallyourpetsnamederic do?\n",
    "<u>Sol.</u> This will import module areallyourpetsnamederic and all the function, member in areallyourpetsnamederic available for use in current program."
   ]
  },
  {
   "cell_type": "markdown",
   "id": "11315447-d2ac-4905-a8b4-1784f3e6cee1",
   "metadata": {},
   "source": [
    "#### 12. If you had a bacon() feature in a spam module, what would you call it after importing spam?\n",
    "<u>Sol.</u>\n",
    "<br/>\n",
    "<code>\n",
    "import spam\n",
    "spam.bacon()\n",
    "</code>"
   ]
  },
  {
   "cell_type": "markdown",
   "id": "82afac86-046e-4672-b1b8-cc7636dca19c",
   "metadata": {},
   "source": [
    "####  13.What can you do to save a programme from crashing if it encounters an error?\n",
    "<u>Sol.</u><br/>\n",
    "Put the code in the try.. except.. finally in case of exception/error.This prevent the system from crash also provide a alternate path for smoother execution."
   ]
  },
  {
   "cell_type": "code",
   "execution_count": 17,
   "id": "436a7cf0-ba41-4a0e-9eef-8d668f9cc483",
   "metadata": {},
   "outputs": [],
   "source": [
    "def divide(num1,num2):\n",
    "    try:\n",
    "        return num1/num2\n",
    "    except Exception as e:\n",
    "        print(\"Exception is raising during execution\",e)\n",
    "    finally:\n",
    "        print(\"Execution completed\")\n",
    "        "
   ]
  },
  {
   "cell_type": "code",
   "execution_count": 18,
   "id": "5d48af5f-2ff4-464b-a178-f2b5aa0d122e",
   "metadata": {},
   "outputs": [
    {
     "name": "stdout",
     "output_type": "stream",
     "text": [
      "Exception is raising during execution division by zero\n",
      "Execution completed\n"
     ]
    }
   ],
   "source": [
    "divide(2,0)"
   ]
  },
  {
   "cell_type": "markdown",
   "id": "17989420-e7bf-4a4f-afa9-044387894745",
   "metadata": {},
   "source": [
    "#### 14. What is the purpose of the try clause? What is the purpose of the except clause?\n",
    "<u>Sol.</u><br/>\n",
    "try clause contains suspicious code which may or may not raise exception.Except clause run in case of error/exception and provides an alternate path for smoother execution.\n"
   ]
  },
  {
   "cell_type": "code",
   "execution_count": null,
   "id": "da41249c-e222-4527-9edb-c5538fcfa347",
   "metadata": {},
   "outputs": [],
   "source": []
  }
 ],
 "metadata": {
  "kernelspec": {
   "display_name": "Python 3 (ipykernel)",
   "language": "python",
   "name": "python3"
  },
  "language_info": {
   "codemirror_mode": {
    "name": "ipython",
    "version": 3
   },
   "file_extension": ".py",
   "mimetype": "text/x-python",
   "name": "python",
   "nbconvert_exporter": "python",
   "pygments_lexer": "ipython3",
   "version": "3.7.8"
  }
 },
 "nbformat": 4,
 "nbformat_minor": 5
}
